{
 "cells": [
  {
   "cell_type": "code",
   "execution_count": 6,
   "id": "e2768953",
   "metadata": {},
   "outputs": [
    {
     "name": "stdout",
     "output_type": "stream",
     "text": [
      "     Glucose  BloodPressure  SkinThickness  Insulin   BMI  \\\n",
      "0        101             58             17      265  24.2   \n",
      "1        108             70              0        0  30.5   \n",
      "2        148             60             27      318  30.9   \n",
      "3        113             76              0        0  33.3   \n",
      "4         83             86             19        0  29.3   \n",
      "..       ...            ...            ...      ...   ...   \n",
      "681      111             62              0        0  22.6   \n",
      "682      122             90             51      220  49.7   \n",
      "683       77             56             30       56  33.3   \n",
      "684       75             64             24       55  29.7   \n",
      "685      100             54             28      105  37.8   \n",
      "\n",
      "     DiabetesPedigreeFunction  PatientID  Outcome  \n",
      "0                       0.614       1017        0  \n",
      "1                       0.955       1031        1  \n",
      "2                       0.150       1033        1  \n",
      "3                       0.278       1035        1  \n",
      "4                       0.317       1048        0  \n",
      "..                        ...        ...      ...  \n",
      "681                     0.142      17848        0  \n",
      "682                     0.325      17903        1  \n",
      "683                     1.251      17920        0  \n",
      "684                     0.370      17963        0  \n",
      "685                     0.498      17995        0  \n",
      "\n",
      "[686 rows x 8 columns]\n"
     ]
    }
   ],
   "source": [
    "import pandas as pd\n",
    "diabetes=pd.read_csv(\"diabetes.csv\")\n",
    "print( diabetes )\n",
    "\n",
    "import pandas as pd\n",
    "pd.read_csv(\"patient_data.csv\")\n",
    "\n",
    "import pandas as pd\n",
    "pd.read_csv(\"pregnancies_records.csv\")"
   ]
  },
  {
   "cell_type": "code",
   "execution_count": 34,
   "id": "39778f5b",
   "metadata": {},
   "outputs": [
    {
     "name": "stdout",
     "output_type": "stream",
     "text": [
      "Glucose mean:120.65160349854227\n",
      "Glucose median:117.0\n",
      "Insulin max:846\n",
      "BMI max:67.1\n",
      "BloodPressure max:122\n",
      "Number of rows  686\n",
      "Number of columns  8\n",
      "Standard deviation for glucose: 31.85770674698452\n",
      "Correlation:\n",
      "                 Glucose   Insulin  BloodPressure\n",
      "Glucose        1.000000  0.346204       0.151477\n",
      "Insulin        0.346204  1.000000       0.076375\n",
      "BloodPressure  0.151477  0.076375       1.000000\n"
     ]
    },
    {
     "name": "stderr",
     "output_type": "stream",
     "text": [
      "/Users/keselmap/opt/anaconda3/lib/python3.8/site-packages/seaborn/distributions.py:2557: FutureWarning: `distplot` is a deprecated function and will be removed in a future version. Please adapt your code to use either `displot` (a figure-level function with similar flexibility) or `histplot` (an axes-level function for histograms).\n",
      "  warnings.warn(msg, FutureWarning)\n"
     ]
    },
    {
     "data": {
      "image/png": "[encoded data removed]",
      "text/plain": [
       "<Figure size 432x288 with 1 Axes>"
      ]
     },
     "metadata": {},
     "output_type": "display_data"
    }
   ],
   "source": [
    "print('Glucose mean:' + str(diabetes.Glucose.mean()))\n",
    "print('Glucose median:' + str(diabetes.Glucose.median()))\n",
    "print('Insulin max:' + str(diabetes.Insulin.max()))\n",
    "print('BMI max:' + str(diabetes.BMI.max()))\n",
    "print('BloodPressure max:' + str(diabetes.BloodPressure.max()))\n",
    "print(\"Number of rows \", len(diabetes.index))\n",
    "print(\"Number of columns \",len(diabetes.columns))\n",
    "# print(\"Standard deviation for all columns\\n\", diabetes.std())\n",
    "\n",
    "import numpy as np\n",
    "print(\"Standard deviation for glucose:\", np.std(diabetes['Glucose'], ddof=1))\n",
    "\n",
    "print(\"Correlation:\\n\",diabetes[[\"Glucose\", \"Insulin\", \"BloodPressure\"]].corr())\n",
    "\n",
    "import seaborn as sns\n",
    "sns.set(color_codes=True)\n",
    "sns.set_palette(sns.color_palette(\"muted\"))\n",
    "\n",
    "sns.distplot(diabetes[\"Insulin\"].dropna());"
   ]
  },
  {
   "cell_type": "code",
   "execution_count": null,
   "id": "3248081d",
   "metadata": {},
   "outputs": [],
   "source": []
  }
 ],
 "metadata": {
  "kernelspec": {
   "display_name": "Python 3",
   "language": "python",
   "name": "python3"
  },
  "language_info": {
   "codemirror_mode": {
    "name": "ipython",
    "version": 3
   },
   "file_extension": ".py",
   "mimetype": "text/x-python",
   "name": "python",
   "nbconvert_exporter": "python",
   "pygments_lexer": "ipython3",
   "version": "3.8.8"
  }
 },
 "nbformat": 4,
 "nbformat_minor": 5
}
